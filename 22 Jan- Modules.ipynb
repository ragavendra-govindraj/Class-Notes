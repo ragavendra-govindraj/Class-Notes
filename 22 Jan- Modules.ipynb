{
 "cells": [
  {
   "cell_type": "code",
   "execution_count": 1,
   "metadata": {},
   "outputs": [
    {
     "name": "stdout",
     "output_type": "stream",
     "text": [
      " Volume in drive C has no label.\n",
      " Volume Serial Number is 46EA-FEC8\n",
      "\n",
      " Directory of C:\\Users\\11477\n",
      "\n",
      "12/16/2021  08:48 PM             4,429  Assignment_13.ipynb\n",
      "12/20/2021  08:17 PM            13,443  Assignment_16.ipynb\n",
      "01/07/2022  10:18 PM             5,523  Assignment_5.ipynb\n",
      "01/13/2022  05:30 PM            13,504  Assignment_9.ipynb\n",
      "01/03/2022  04:48 PM            10,749  Programming Assignment_1.ipynb\n",
      "12/12/2021  07:13 PM            10,781  Programming Assignment_10.ipynb\n",
      "12/12/2021  11:01 PM             8,022  Programming Assignment_11.ipynb\n",
      "12/16/2021  08:04 PM             6,790  Programming Assignment_15.ipynb\n",
      "03/12/2022  12:14 PM    <DIR>          .\n",
      "03/12/2022  12:14 PM    <DIR>          ..\n",
      "10/07/2021  05:12 PM    <DIR>          .anaconda\n",
      "12/10/2021  08:40 PM    <DIR>          .conda\n",
      "07/26/2021  12:47 PM               141 .gitconfig\n",
      "12/22/2021  05:04 PM    <DIR>          .idlerc\n",
      "03/12/2022  10:50 AM    <DIR>          .ipynb_checkpoints\n",
      "09/17/2021  01:53 PM    <DIR>          .ipython\n",
      "10/06/2021  11:26 PM    <DIR>          .jupyter\n",
      "10/06/2021  11:31 PM    <DIR>          .matplotlib\n",
      "03/12/2022  12:12 PM    <DIR>          __pycache__\n",
      "03/11/2022  08:00 PM            12,326 16 Jan Exception handling class.ipynb\n",
      "03/12/2022  12:14 PM            27,370 22 Jan- Modules.ipynb\n",
      "10/28/2021  03:58 PM    <DIR>          3D Objects\n",
      "01/18/2022  09:48 PM             4,995 Advanced Assignment -12.ipynb\n",
      "01/18/2022  11:13 PM             6,875 Advanced Assignment 13.ipynb\n",
      "01/14/2022  08:42 PM             3,634 Advanced Assignment_10.ipynb\n",
      "01/17/2022  11:38 PM             2,457 Advanced Assignment_11.ipynb\n",
      "03/08/2022  08:01 PM             8,856 Advanced Assignment_15.ipynb\n",
      "03/11/2022  10:19 PM             5,802 Advanced Assignment_16.ipynb\n",
      "01/14/2022  08:22 PM            10,346 Advanced Programming Assignment_10.ipynb\n",
      "01/17/2022  11:14 PM            10,069 Advanced Programming Assignment_11.ipynb\n",
      "03/07/2022  09:23 PM             7,743 Advanced Programming Assignment_14.ipynb\n",
      "01/04/2022  03:48 PM             8,428 Advanced Programming Assignment_2.ipynb\n",
      "01/05/2022  06:26 PM            11,020 Advanced Programming Assignment_3.ipynb\n",
      "01/06/2022  04:48 PM             7,882 Advanced Programming Assignment_4.ipynb\n",
      "01/07/2022  09:50 PM             8,110 Advanced Programming Assignment_5.ipynb\n",
      "01/10/2022  07:17 PM            10,017 Advanced Programming Assignment_6.ipynb\n",
      "01/11/2022  05:12 PM             8,670 Advanced Programming Assignment_7.ipynb\n",
      "01/12/2022  08:33 PM             9,490 Advanced Programming Assignment_8.ipynb\n",
      "01/13/2022  04:26 PM             8,744 Advanced Programming Assignment_9.ipynb\n",
      "03/02/2022  09:42 PM             8,935 Assignment 12- advanced programming.ipynb\n",
      "12/22/2021  06:34 PM             3,690 Assignment 18.ipynb\n",
      "12/05/2021  03:16 PM             7,861 Assignment 2(Python Basic).ipynb\n",
      "12/05/2021  05:44 PM             5,747 Assignment 3- Python Basics.ipynb\n",
      "12/06/2021  09:41 AM            10,249 Assignment 4- Python basics.ipynb\n",
      "12/06/2021  10:24 AM             7,086 Assignment 5- Python Basics.ipynb\n",
      "12/07/2021  09:27 PM             8,292 Assignment 6- Python Basics.ipynb\n",
      "12/08/2021  04:19 PM             9,944 Assignment 7 Python Basics.ipynb\n",
      "12/08/2021  05:17 PM             2,776 Assignment 8- Python Basics.ipynb\n",
      "01/03/2022  05:09 PM             4,491 Assignment_1.ipynb\n",
      "12/13/2021  10:39 PM             3,894 Assignment_10.ipynb\n",
      "12/14/2021  05:26 PM            10,882 Assignment_11.ipynb\n",
      "12/15/2021  09:05 PM             5,768 Assignment_12.ipynb\n",
      "12/17/2021  08:05 PM             5,020 Assignment_14.ipynb\n",
      "12/18/2021  10:11 AM             5,284 Assignment_15.ipynb\n",
      "12/21/2021  05:44 PM             9,961 Assignment_17.ipynb\n",
      "12/23/2021  06:23 PM            14,686 Assignment_19.ipynb\n",
      "01/05/2022  03:30 PM             8,644 Assignment_2.ipynb\n",
      "12/24/2021  06:24 PM            28,357 Assignment_20.ipynb\n",
      "12/27/2021  06:58 PM             9,998 Assignment_21.ipynb\n",
      "12/28/2021  10:47 PM             5,892 Assignment_22.ipynb\n",
      "12/29/2021  06:57 PM             5,828 Assignment_23.ipynb\n",
      "12/30/2021  07:15 PM             7,828 Assignment_24.ipynb\n",
      "12/31/2021  04:28 PM             7,610 Assignment_25.ipynb\n",
      "01/05/2022  08:51 PM             7,106 Assignment_3.ipynb\n",
      "01/06/2022  08:14 PM             6,277 Assignment_4.ipynb\n",
      "01/10/2022  07:56 PM             5,764 Assignment_6.ipynb\n",
      "01/11/2022  07:29 PM             5,791 Assignment_7.ipynb\n",
      "01/12/2022  10:20 PM             5,172 Assignment_8.ipynb\n",
      "12/12/2021  11:57 PM             4,346 Assignment_9.ipynb\n",
      "03/03/2022  08:07 PM             9,115 Assignment-14.ipynb\n",
      "12/24/2021  06:00 PM               206 books.csv\n",
      "12/24/2021  06:08 PM             8,192 books.db\n",
      "01/09/2022  12:14 PM            31,864 Class 11 8 Jan Iterators.ipynb\n",
      "01/09/2022  01:17 PM            89,467 Class 12 - 9 Jan Files.ipynb\n",
      "01/16/2022  12:21 PM            24,925 Class 13 and 14 15  and 16 Jan Exception handling and logging .ipynb\n",
      "01/16/2022  10:06 AM               555 Class 14 16 Jan.ipynb\n",
      "01/16/2022  01:14 PM             3,435 Class 14 16Jan Logging.ipynb\n",
      "01/22/2022  11:05 AM             4,548 Class 15- Modules.ipynb\n",
      "12/05/2021  12:56 PM            47,430 Class 4.ipynb\n",
      "12/18/2021  12:54 PM            43,643 class 5- 18 Dec- Tuples,set,dict.ipynb\n",
      "12/19/2021  01:24 PM            15,084 Class 6, if else, for loop.ipynb\n",
      "12/26/2021  01:48 PM            15,419 Class 7- for and while loop.ipynb\n",
      "12/26/2021  05:30 PM            12,595 Class 8 - for and while in detail.ipynb\n",
      "01/03/2022  12:08 PM            20,919 Class 9 - Functions.ipynb\n",
      "10/28/2021  03:58 PM    <DIR>          Contacts\n",
      "03/08/2022  12:36 PM    <DIR>          Desktop\n",
      "10/28/2021  03:58 PM    <DIR>          Documents\n",
      "03/12/2022  10:23 AM    <DIR>          Downloads\n",
      "10/28/2021  03:58 PM    <DIR>          Favorites\n",
      "12/04/2021  02:43 PM             9,033 FSDS Assignment 1.ipynb\n",
      "01/09/2022  12:50 PM               257 google.txt\n",
      "10/28/2021  03:58 PM    <DIR>          Links\n",
      "08/26/2021  08:50 PM    <DIR>          Microsoft\n",
      "10/28/2021  03:58 PM    <DIR>          Music\n",
      "09/06/2021  12:18 PM    <DIR>          OneDrive\n",
      "03/10/2022  08:44 PM    <DIR>          OneDrive - Dun & Bradstreet South Asia Middle East Ltd\n",
      "11/26/2021  11:00 PM    <DIR>          Pictures\n",
      "12/14/2021  04:49 PM                 0 programLog.txt\n",
      "12/08/2021  07:41 PM             3,840 Programming Assignment_1.ipynb\n",
      "12/13/2021  09:11 PM             9,856 Programming Assignment_12.ipynb\n",
      "12/14/2021  04:18 PM             8,685 Programming Assignment_13.ipynb\n",
      "12/15/2021  06:55 PM             8,040 Programming Assignment_14.ipynb\n",
      "12/20/2021  12:48 PM             6,156 Programming Assignment_16.ipynb\n",
      "12/21/2021  03:50 PM             6,034 Programming Assignment_17.ipynb\n",
      "12/22/2021  03:32 PM             6,929 Programming Assignment_18.ipynb\n",
      "12/23/2021  02:18 PM             5,497 Programming Assignment_19.ipynb\n",
      "12/08/2021  09:02 PM             7,213 Programming Assignment_2.ipynb\n",
      "12/24/2021  02:10 PM             6,004 Programming Assignment_20.ipynb\n",
      "12/27/2021  06:14 PM            12,486 Programming Assignment_21.ipynb\n",
      "12/29/2021  12:22 AM             7,620 Programming Assignment_22.ipynb\n",
      "12/29/2021  05:10 PM             5,776 Programming Assignment_23.ipynb\n",
      "12/30/2021  06:57 PM             9,555 Programming Assignment_24.ipynb\n",
      "12/31/2021  03:46 PM             6,172 Programming Assignment_25.ipynb\n",
      "12/08/2021  11:15 PM            23,871 Programming Assignment_3.ipynb\n",
      "12/09/2021  01:33 PM             5,863 Programming Assignment_4.ipynb\n",
      "12/09/2021  03:28 PM             4,828 Programming Assignment_5.ipynb\n",
      "12/10/2021  09:21 PM             4,713 Programming Assignment_6.ipynb\n",
      "12/10/2021  10:20 PM             4,800 Programming Assignment_7.ipynb\n",
      "12/12/2021  12:26 AM             5,177 Programming Assignment_8.ipynb\n",
      "12/12/2021  01:57 AM             9,831 Programming Assignment_9.ipynb\n",
      "03/04/2022  08:20 PM             7,559 Programming Assignment-13.ipynb\n",
      "06/23/2021  01:16 PM    <DIR>          Roaming\n",
      "01/11/2022  07:28 PM                11 sample_file.txt\n",
      "10/28/2021  03:58 PM    <DIR>          Saved Games\n",
      "10/28/2021  03:58 PM    <DIR>          Searches\n",
      "01/03/2022  08:47 PM             5,272 Special Assignment.ipynb\n",
      "03/12/2022  10:47 AM                67 test.py\n",
      "01/15/2022  10:43 AM                 6 test.txt\n",
      "01/22/2022  10:30 AM                 0 test1\n",
      "03/12/2022  11:00 AM                 0 test1.py\n",
      "03/10/2022  07:11 PM                22 test1.txt\n",
      "01/22/2022  10:45 AM                67 test2\n",
      "01/16/2022  12:58 PM               280 test2.log\n",
      "03/12/2022  12:13 PM                 0 test2.py\n",
      "03/12/2022  11:06 AM                 0 test2.py.txt\n",
      "01/22/2022  10:52 AM                67 test3\n",
      "01/16/2022  01:10 PM               470 test3.log\n",
      "03/10/2022  07:43 PM                 0 test43.txt\n",
      "03/11/2022  06:53 PM             1,622 testcheck.log\n",
      "01/22/2022  10:59 AM                62 testmax\n",
      "01/22/2022  11:03 AM                62 testmax1.py\n",
      "03/12/2022  12:13 PM               235 testnow\n",
      "03/12/2022  12:15 PM               236 testnow.py\n",
      "01/09/2022  11:59 AM                39 tests.txt\n",
      "12/27/2021  06:32 PM                10 today.txt\n",
      "09/17/2021  01:57 PM               669 Untitled.ipynb\n",
      "10/07/2021  12:07 AM           150,800 Untitled1.ipynb\n",
      "03/11/2022  06:25 PM             1,124 Untitled10.ipynb\n",
      "12/04/2021  11:58 AM             1,488 Untitled2.ipynb\n",
      "12/04/2021  12:52 PM            15,731 Untitled3.ipynb\n",
      "12/13/2021  10:48 PM                72 Untitled4.ipynb\n",
      "12/12/2021  12:31 AM               555 Untitled4-Copy1.ipynb\n",
      "12/18/2021  10:09 AM                72 Untitled5.ipynb\n",
      "12/20/2021  12:59 PM                72 Untitled6.ipynb\n",
      "12/22/2021  03:47 PM                72 Untitled7.ipynb\n",
      "01/22/2022  10:24 AM               555 Untitled8.ipynb\n",
      "01/06/2022  07:37 PM               555 Untitled8-Copy1.ipynb\n",
      "01/16/2022  11:40 AM             1,852 Untitled9.ipynb\n",
      "10/28/2021  03:58 PM    <DIR>          Videos\n",
      "12/22/2021  03:49 PM               877 zoo.ipynb\n",
      "             134 File(s)      1,175,609 bytes\n",
      "              26 Dir(s)  401,727,057,920 bytes free\n"
     ]
    }
   ],
   "source": [
    "ls\n"
   ]
  },
  {
   "cell_type": "code",
   "execution_count": 2,
   "metadata": {},
   "outputs": [
    {
     "data": {
      "text/plain": [
       "<_io.TextIOWrapper name='test2.py' mode='w' encoding='cp1252'>"
      ]
     },
     "execution_count": 2,
     "metadata": {},
     "output_type": "execute_result"
    }
   ],
   "source": [
    "open(\"test2.py\",\"w\")"
   ]
  },
  {
   "cell_type": "code",
   "execution_count": 3,
   "metadata": {},
   "outputs": [
    {
     "name": "stdout",
     "output_type": "stream",
     "text": [
      " Volume in drive C has no label.\n",
      " Volume Serial Number is 46EA-FEC8\n",
      "\n",
      " Directory of C:\\Users\\11477\n",
      "\n",
      "12/16/2021  08:48 PM             4,429  Assignment_13.ipynb\n",
      "12/20/2021  08:17 PM            13,443  Assignment_16.ipynb\n",
      "01/07/2022  10:18 PM             5,523  Assignment_5.ipynb\n",
      "01/13/2022  05:30 PM            13,504  Assignment_9.ipynb\n",
      "01/03/2022  04:48 PM            10,749  Programming Assignment_1.ipynb\n",
      "12/12/2021  07:13 PM            10,781  Programming Assignment_10.ipynb\n",
      "12/12/2021  11:01 PM             8,022  Programming Assignment_11.ipynb\n",
      "12/16/2021  08:04 PM             6,790  Programming Assignment_15.ipynb\n",
      "03/12/2022  12:14 PM    <DIR>          .\n",
      "03/12/2022  12:14 PM    <DIR>          ..\n",
      "10/07/2021  05:12 PM    <DIR>          .anaconda\n",
      "12/10/2021  08:40 PM    <DIR>          .conda\n",
      "07/26/2021  12:47 PM               141 .gitconfig\n",
      "12/22/2021  05:04 PM    <DIR>          .idlerc\n",
      "03/12/2022  10:50 AM    <DIR>          .ipynb_checkpoints\n",
      "09/17/2021  01:53 PM    <DIR>          .ipython\n",
      "10/06/2021  11:26 PM    <DIR>          .jupyter\n",
      "10/06/2021  11:31 PM    <DIR>          .matplotlib\n",
      "03/12/2022  12:12 PM    <DIR>          __pycache__\n",
      "03/11/2022  08:00 PM            12,326 16 Jan Exception handling class.ipynb\n",
      "03/12/2022  12:14 PM            27,370 22 Jan- Modules.ipynb\n",
      "10/28/2021  03:58 PM    <DIR>          3D Objects\n",
      "01/18/2022  09:48 PM             4,995 Advanced Assignment -12.ipynb\n",
      "01/18/2022  11:13 PM             6,875 Advanced Assignment 13.ipynb\n",
      "01/14/2022  08:42 PM             3,634 Advanced Assignment_10.ipynb\n",
      "01/17/2022  11:38 PM             2,457 Advanced Assignment_11.ipynb\n",
      "03/08/2022  08:01 PM             8,856 Advanced Assignment_15.ipynb\n",
      "03/11/2022  10:19 PM             5,802 Advanced Assignment_16.ipynb\n",
      "01/14/2022  08:22 PM            10,346 Advanced Programming Assignment_10.ipynb\n",
      "01/17/2022  11:14 PM            10,069 Advanced Programming Assignment_11.ipynb\n",
      "03/07/2022  09:23 PM             7,743 Advanced Programming Assignment_14.ipynb\n",
      "01/04/2022  03:48 PM             8,428 Advanced Programming Assignment_2.ipynb\n",
      "01/05/2022  06:26 PM            11,020 Advanced Programming Assignment_3.ipynb\n",
      "01/06/2022  04:48 PM             7,882 Advanced Programming Assignment_4.ipynb\n",
      "01/07/2022  09:50 PM             8,110 Advanced Programming Assignment_5.ipynb\n",
      "01/10/2022  07:17 PM            10,017 Advanced Programming Assignment_6.ipynb\n",
      "01/11/2022  05:12 PM             8,670 Advanced Programming Assignment_7.ipynb\n",
      "01/12/2022  08:33 PM             9,490 Advanced Programming Assignment_8.ipynb\n",
      "01/13/2022  04:26 PM             8,744 Advanced Programming Assignment_9.ipynb\n",
      "03/02/2022  09:42 PM             8,935 Assignment 12- advanced programming.ipynb\n",
      "12/22/2021  06:34 PM             3,690 Assignment 18.ipynb\n",
      "12/05/2021  03:16 PM             7,861 Assignment 2(Python Basic).ipynb\n",
      "12/05/2021  05:44 PM             5,747 Assignment 3- Python Basics.ipynb\n",
      "12/06/2021  09:41 AM            10,249 Assignment 4- Python basics.ipynb\n",
      "12/06/2021  10:24 AM             7,086 Assignment 5- Python Basics.ipynb\n",
      "12/07/2021  09:27 PM             8,292 Assignment 6- Python Basics.ipynb\n",
      "12/08/2021  04:19 PM             9,944 Assignment 7 Python Basics.ipynb\n",
      "12/08/2021  05:17 PM             2,776 Assignment 8- Python Basics.ipynb\n",
      "01/03/2022  05:09 PM             4,491 Assignment_1.ipynb\n",
      "12/13/2021  10:39 PM             3,894 Assignment_10.ipynb\n",
      "12/14/2021  05:26 PM            10,882 Assignment_11.ipynb\n",
      "12/15/2021  09:05 PM             5,768 Assignment_12.ipynb\n",
      "12/17/2021  08:05 PM             5,020 Assignment_14.ipynb\n",
      "12/18/2021  10:11 AM             5,284 Assignment_15.ipynb\n",
      "12/21/2021  05:44 PM             9,961 Assignment_17.ipynb\n",
      "12/23/2021  06:23 PM            14,686 Assignment_19.ipynb\n",
      "01/05/2022  03:30 PM             8,644 Assignment_2.ipynb\n",
      "12/24/2021  06:24 PM            28,357 Assignment_20.ipynb\n",
      "12/27/2021  06:58 PM             9,998 Assignment_21.ipynb\n",
      "12/28/2021  10:47 PM             5,892 Assignment_22.ipynb\n",
      "12/29/2021  06:57 PM             5,828 Assignment_23.ipynb\n",
      "12/30/2021  07:15 PM             7,828 Assignment_24.ipynb\n",
      "12/31/2021  04:28 PM             7,610 Assignment_25.ipynb\n",
      "01/05/2022  08:51 PM             7,106 Assignment_3.ipynb\n",
      "01/06/2022  08:14 PM             6,277 Assignment_4.ipynb\n",
      "01/10/2022  07:56 PM             5,764 Assignment_6.ipynb\n",
      "01/11/2022  07:29 PM             5,791 Assignment_7.ipynb\n",
      "01/12/2022  10:20 PM             5,172 Assignment_8.ipynb\n",
      "12/12/2021  11:57 PM             4,346 Assignment_9.ipynb\n",
      "03/03/2022  08:07 PM             9,115 Assignment-14.ipynb\n",
      "12/24/2021  06:00 PM               206 books.csv\n",
      "12/24/2021  06:08 PM             8,192 books.db\n",
      "01/09/2022  12:14 PM            31,864 Class 11 8 Jan Iterators.ipynb\n",
      "01/09/2022  01:17 PM            89,467 Class 12 - 9 Jan Files.ipynb\n",
      "01/16/2022  12:21 PM            24,925 Class 13 and 14 15  and 16 Jan Exception handling and logging .ipynb\n",
      "01/16/2022  10:06 AM               555 Class 14 16 Jan.ipynb\n",
      "01/16/2022  01:14 PM             3,435 Class 14 16Jan Logging.ipynb\n",
      "01/22/2022  11:05 AM             4,548 Class 15- Modules.ipynb\n",
      "12/05/2021  12:56 PM            47,430 Class 4.ipynb\n",
      "12/18/2021  12:54 PM            43,643 class 5- 18 Dec- Tuples,set,dict.ipynb\n",
      "12/19/2021  01:24 PM            15,084 Class 6, if else, for loop.ipynb\n",
      "12/26/2021  01:48 PM            15,419 Class 7- for and while loop.ipynb\n",
      "12/26/2021  05:30 PM            12,595 Class 8 - for and while in detail.ipynb\n",
      "01/03/2022  12:08 PM            20,919 Class 9 - Functions.ipynb\n",
      "10/28/2021  03:58 PM    <DIR>          Contacts\n",
      "03/08/2022  12:36 PM    <DIR>          Desktop\n",
      "10/28/2021  03:58 PM    <DIR>          Documents\n",
      "03/12/2022  10:23 AM    <DIR>          Downloads\n",
      "10/28/2021  03:58 PM    <DIR>          Favorites\n",
      "12/04/2021  02:43 PM             9,033 FSDS Assignment 1.ipynb\n",
      "01/09/2022  12:50 PM               257 google.txt\n",
      "10/28/2021  03:58 PM    <DIR>          Links\n",
      "08/26/2021  08:50 PM    <DIR>          Microsoft\n",
      "10/28/2021  03:58 PM    <DIR>          Music\n",
      "09/06/2021  12:18 PM    <DIR>          OneDrive\n",
      "03/10/2022  08:44 PM    <DIR>          OneDrive - Dun & Bradstreet South Asia Middle East Ltd\n",
      "11/26/2021  11:00 PM    <DIR>          Pictures\n",
      "12/14/2021  04:49 PM                 0 programLog.txt\n",
      "12/08/2021  07:41 PM             3,840 Programming Assignment_1.ipynb\n",
      "12/13/2021  09:11 PM             9,856 Programming Assignment_12.ipynb\n",
      "12/14/2021  04:18 PM             8,685 Programming Assignment_13.ipynb\n",
      "12/15/2021  06:55 PM             8,040 Programming Assignment_14.ipynb\n",
      "12/20/2021  12:48 PM             6,156 Programming Assignment_16.ipynb\n",
      "12/21/2021  03:50 PM             6,034 Programming Assignment_17.ipynb\n",
      "12/22/2021  03:32 PM             6,929 Programming Assignment_18.ipynb\n",
      "12/23/2021  02:18 PM             5,497 Programming Assignment_19.ipynb\n",
      "12/08/2021  09:02 PM             7,213 Programming Assignment_2.ipynb\n",
      "12/24/2021  02:10 PM             6,004 Programming Assignment_20.ipynb\n",
      "12/27/2021  06:14 PM            12,486 Programming Assignment_21.ipynb\n",
      "12/29/2021  12:22 AM             7,620 Programming Assignment_22.ipynb\n",
      "12/29/2021  05:10 PM             5,776 Programming Assignment_23.ipynb\n",
      "12/30/2021  06:57 PM             9,555 Programming Assignment_24.ipynb\n",
      "12/31/2021  03:46 PM             6,172 Programming Assignment_25.ipynb\n",
      "12/08/2021  11:15 PM            23,871 Programming Assignment_3.ipynb\n",
      "12/09/2021  01:33 PM             5,863 Programming Assignment_4.ipynb\n",
      "12/09/2021  03:28 PM             4,828 Programming Assignment_5.ipynb\n",
      "12/10/2021  09:21 PM             4,713 Programming Assignment_6.ipynb\n",
      "12/10/2021  10:20 PM             4,800 Programming Assignment_7.ipynb\n",
      "12/12/2021  12:26 AM             5,177 Programming Assignment_8.ipynb\n",
      "12/12/2021  01:57 AM             9,831 Programming Assignment_9.ipynb\n",
      "03/04/2022  08:20 PM             7,559 Programming Assignment-13.ipynb\n",
      "06/23/2021  01:16 PM    <DIR>          Roaming\n",
      "01/11/2022  07:28 PM                11 sample_file.txt\n",
      "10/28/2021  03:58 PM    <DIR>          Saved Games\n",
      "10/28/2021  03:58 PM    <DIR>          Searches\n",
      "01/03/2022  08:47 PM             5,272 Special Assignment.ipynb\n",
      "03/12/2022  10:47 AM                67 test.py\n",
      "01/15/2022  10:43 AM                 6 test.txt\n",
      "01/22/2022  10:30 AM                 0 test1\n",
      "03/12/2022  11:00 AM                 0 test1.py\n",
      "03/10/2022  07:11 PM                22 test1.txt\n",
      "01/22/2022  10:45 AM                67 test2\n",
      "01/16/2022  12:58 PM               280 test2.log\n",
      "03/12/2022  12:15 PM                 0 test2.py\n",
      "03/12/2022  11:06 AM                 0 test2.py.txt\n",
      "01/22/2022  10:52 AM                67 test3\n",
      "01/16/2022  01:10 PM               470 test3.log\n",
      "03/10/2022  07:43 PM                 0 test43.txt\n",
      "03/11/2022  06:53 PM             1,622 testcheck.log\n",
      "01/22/2022  10:59 AM                62 testmax\n",
      "01/22/2022  11:03 AM                62 testmax1.py\n",
      "03/12/2022  12:13 PM               235 testnow\n",
      "03/12/2022  12:15 PM               236 testnow.py\n",
      "01/09/2022  11:59 AM                39 tests.txt\n",
      "12/27/2021  06:32 PM                10 today.txt\n",
      "09/17/2021  01:57 PM               669 Untitled.ipynb\n",
      "10/07/2021  12:07 AM           150,800 Untitled1.ipynb\n",
      "03/11/2022  06:25 PM             1,124 Untitled10.ipynb\n",
      "12/04/2021  11:58 AM             1,488 Untitled2.ipynb\n",
      "12/04/2021  12:52 PM            15,731 Untitled3.ipynb\n",
      "12/13/2021  10:48 PM                72 Untitled4.ipynb\n",
      "12/12/2021  12:31 AM               555 Untitled4-Copy1.ipynb\n",
      "12/18/2021  10:09 AM                72 Untitled5.ipynb\n",
      "12/20/2021  12:59 PM                72 Untitled6.ipynb\n",
      "12/22/2021  03:47 PM                72 Untitled7.ipynb\n",
      "01/22/2022  10:24 AM               555 Untitled8.ipynb\n",
      "01/06/2022  07:37 PM               555 Untitled8-Copy1.ipynb\n",
      "01/16/2022  11:40 AM             1,852 Untitled9.ipynb\n",
      "10/28/2021  03:58 PM    <DIR>          Videos\n",
      "12/22/2021  03:49 PM               877 zoo.ipynb\n",
      "             134 File(s)      1,175,609 bytes\n",
      "              26 Dir(s)  401,727,057,920 bytes free\n"
     ]
    }
   ],
   "source": [
    "ls"
   ]
  },
  {
   "cell_type": "code",
   "execution_count": 4,
   "metadata": {},
   "outputs": [],
   "source": [
    "import testnow"
   ]
  },
  {
   "cell_type": "code",
   "execution_count": 5,
   "metadata": {},
   "outputs": [
    {
     "data": {
      "text/plain": [
       "9"
      ]
     },
     "execution_count": 5,
     "metadata": {},
     "output_type": "execute_result"
    }
   ],
   "source": [
    "testnow.testnow(4,5)"
   ]
  },
  {
   "cell_type": "code",
   "execution_count": 6,
   "metadata": {},
   "outputs": [
    {
     "data": {
      "text/plain": [
       "20"
      ]
     },
     "execution_count": 6,
     "metadata": {},
     "output_type": "execute_result"
    }
   ],
   "source": [
    "testnow.testnow2(4,5)"
   ]
  },
  {
   "cell_type": "code",
   "execution_count": 7,
   "metadata": {},
   "outputs": [
    {
     "data": {
      "text/plain": [
       "'C:\\\\Users\\\\11477'"
      ]
     },
     "execution_count": 7,
     "metadata": {},
     "output_type": "execute_result"
    }
   ],
   "source": [
    "pwd()"
   ]
  },
  {
   "cell_type": "code",
   "execution_count": 8,
   "metadata": {},
   "outputs": [
    {
     "data": {
      "text/plain": [
       "7.0"
      ]
     },
     "execution_count": 8,
     "metadata": {},
     "output_type": "execute_result"
    }
   ],
   "source": [
    "testnow.testnow3(21,3)"
   ]
  },
  {
   "cell_type": "code",
   "execution_count": 9,
   "metadata": {},
   "outputs": [
    {
     "name": "stdout",
     "output_type": "stream",
     "text": [
      "This is my code written in module testnow\n"
     ]
    }
   ],
   "source": [
    "testnow.testnow4()"
   ]
  },
  {
   "cell_type": "code",
   "execution_count": 10,
   "metadata": {},
   "outputs": [],
   "source": [
    "from testnow import testnow4"
   ]
  },
  {
   "cell_type": "code",
   "execution_count": 12,
   "metadata": {},
   "outputs": [
    {
     "name": "stdout",
     "output_type": "stream",
     "text": [
      "This is my code written in module testnow\n"
     ]
    }
   ],
   "source": [
    "testnow4()\n"
   ]
  },
  {
   "cell_type": "code",
   "execution_count": 13,
   "metadata": {},
   "outputs": [],
   "source": [
    "from testnow import *"
   ]
  },
  {
   "cell_type": "code",
   "execution_count": 14,
   "metadata": {},
   "outputs": [
    {
     "data": {
      "text/plain": [
       "<_io.TextIOWrapper name='my_module.py' mode='w' encoding='cp1252'>"
      ]
     },
     "execution_count": 14,
     "metadata": {},
     "output_type": "execute_result"
    }
   ],
   "source": [
    "open (\"my_module.py\",\"w\")"
   ]
  },
  {
   "cell_type": "code",
   "execution_count": 1,
   "metadata": {},
   "outputs": [],
   "source": [
    "import my_module"
   ]
  },
  {
   "cell_type": "code",
   "execution_count": 3,
   "metadata": {},
   "outputs": [
    {
     "data": {
      "text/plain": [
       "'greeting from ineuron'"
      ]
     },
     "execution_count": 3,
     "metadata": {},
     "output_type": "execute_result"
    }
   ],
   "source": [
    "my_module.greetings()"
   ]
  },
  {
   "cell_type": "code",
   "execution_count": 4,
   "metadata": {},
   "outputs": [
    {
     "data": {
      "text/plain": [
       "['data science', 'blockchain', 'drone', 'robotics', 'cloud']"
      ]
     },
     "execution_count": 4,
     "metadata": {},
     "output_type": "execute_result"
    }
   ],
   "source": [
    "my_module.get_course()"
   ]
  },
  {
   "cell_type": "code",
   "execution_count": 6,
   "metadata": {},
   "outputs": [],
   "source": [
    "class car:\n",
    "    pass"
   ]
  },
  {
   "cell_type": "code",
   "execution_count": null,
   "metadata": {},
   "outputs": [],
   "source": [
    "class car:\n",
    "    "
   ]
  }
 ],
 "metadata": {
  "kernelspec": {
   "display_name": "Python 3",
   "language": "python",
   "name": "python3"
  },
  "language_info": {
   "codemirror_mode": {
    "name": "ipython",
    "version": 3
   },
   "file_extension": ".py",
   "mimetype": "text/x-python",
   "name": "python",
   "nbconvert_exporter": "python",
   "pygments_lexer": "ipython3",
   "version": "3.6.5"
  }
 },
 "nbformat": 4,
 "nbformat_minor": 2
}
