{
 "cells": [
  {
   "cell_type": "code",
   "execution_count": 1,
   "metadata": {},
   "outputs": [],
   "source": [
    "a = 10"
   ]
  },
  {
   "cell_type": "code",
   "execution_count": 5,
   "metadata": {},
   "outputs": [
    {
     "ename": "SyntaxError",
     "evalue": "unexpected EOF while parsing (<ipython-input-5-6fa2cbaef8fb>, line 2)",
     "output_type": "error",
     "traceback": [
      "\u001b[1;36m  File \u001b[1;32m\"<ipython-input-5-6fa2cbaef8fb>\"\u001b[1;36m, line \u001b[1;32m2\u001b[0m\n\u001b[1;33m    #print(\"My name is Sudhanshu\")\u001b[0m\n\u001b[1;37m                                  ^\u001b[0m\n\u001b[1;31mSyntaxError\u001b[0m\u001b[1;31m:\u001b[0m unexpected EOF while parsing\n"
     ]
    }
   ],
   "source": [
    "if a < 15:\n",
    "    pass\n",
    "    #print(\"My name is Sudhanshu\") pass will do a dead code without doing anything"
   ]
  },
  {
   "cell_type": "code",
   "execution_count": 3,
   "metadata": {},
   "outputs": [
    {
     "data": {
      "text/plain": [
       "True"
      ]
     },
     "execution_count": 3,
     "metadata": {},
     "output_type": "execute_result"
    }
   ],
   "source": [
    "a<15"
   ]
  },
  {
   "cell_type": "code",
   "execution_count": 6,
   "metadata": {},
   "outputs": [
    {
     "name": "stdout",
     "output_type": "stream",
     "text": [
      "My name is Sudhanshu\n"
     ]
    }
   ],
   "source": [
    "if a < 15:\n",
    "   print(\"My name is Sudhanshu\")"
   ]
  },
  {
   "cell_type": "code",
   "execution_count": 7,
   "metadata": {},
   "outputs": [
    {
     "data": {
      "text/plain": [
       "False"
      ]
     },
     "execution_count": 7,
     "metadata": {},
     "output_type": "execute_result"
    }
   ],
   "source": [
    "24<15"
   ]
  },
  {
   "cell_type": "code",
   "execution_count": 9,
   "metadata": {},
   "outputs": [
    {
     "name": "stdout",
     "output_type": "stream",
     "text": [
      "10 is lesser than 3\n"
     ]
    }
   ],
   "source": [
    "if (5 < 10):\n",
    "    print(\"10 is lesser than 3\")\n",
    "else:\n",
    "    print(\"If statement is wrong\")\n",
    "    \n",
    "    "
   ]
  },
  {
   "cell_type": "code",
   "execution_count": 13,
   "metadata": {},
   "outputs": [
    {
     "name": "stdout",
     "output_type": "stream",
     "text": [
      "10\n",
      "I wil be able to buy a phone\n"
     ]
    }
   ],
   "source": [
    "income = int((input()))\n",
    "if(income < 50):\n",
    "    print(\"I wil be able to buy a phone\")\n",
    "    \n",
    "elif income < 70:\n",
    "    print(\"Car\")\n",
    "    \n",
    "elif income < 90:\n",
    "    print(\"house\")\n",
    "    \n",
    "else:\n",
    "    print(\"Nothing\")\n"
   ]
  },
  {
   "cell_type": "code",
   "execution_count": 17,
   "metadata": {},
   "outputs": [
    {
     "name": "stdout",
     "output_type": "stream",
     "text": [
      "5353\n",
      "Discount is:  267.65000000000003\n"
     ]
    }
   ],
   "source": [
    "total_price = int(input())\n",
    "if total_price > 20000:\n",
    "    discount = total_price * 0.2\n",
    "    print(\"Discount is: \", discount)\n",
    "     print(\"Discount: \", discount)\n",
    "    \n",
    "elif total_price <= 7000:\n",
    "    discount = total_price * 0.05\n",
    "    print(\"Discount is: \", discount)\n",
    "\n",
    "else:\n",
    "    print(\"No discount\")\n",
    "    "
   ]
  },
  {
   "cell_type": "code",
   "execution_count": 21,
   "metadata": {},
   "outputs": [
    {
     "name": "stdout",
     "output_type": "stream",
     "text": [
      "You n get a discount of 5% \n",
      "You pay: 7080.0\n"
     ]
    }
   ],
   "source": [
    "coup =\"SUDHANSHU5\"\n",
    "if coup == \"SUDHANSHU5\":\n",
    "    print(\"You n get a discount of 5% \")\n",
    "    paid_amount = 7080 -  7080*0.\n",
    "    print(\"You pay:\", paid_amount)\n",
    "else:\n",
    "    print(\"Use a valid code\")"
   ]
  },
  {
   "cell_type": "code",
   "execution_count": 22,
   "metadata": {},
   "outputs": [
    {
     "data": {
      "text/plain": [
       "True"
      ]
     },
     "execution_count": 22,
     "metadata": {},
     "output_type": "execute_result"
    }
   ],
   "source": [
    "\"sudh\" == \"sudh\""
   ]
  },
  {
   "cell_type": "code",
   "execution_count": 24,
   "metadata": {},
   "outputs": [
    {
     "name": "stdout",
     "output_type": "stream",
     "text": [
      "0.5\n",
      "It may take 8-9 months for transition\n"
     ]
    }
   ],
   "source": [
    "study_hour = float(input())\n",
    "if study_hour<1:\n",
    "    print(\"It may take 8-9 months for transition\")\n",
    "    \n",
    "elif study_hour>1 and study_hour<4:\n",
    "    print(\"3-6 months\")\n",
    "    \n",
    "elif study_hour>10:\n",
    "    print(\"1 month\")\n",
    "    \n",
    "else:\n",
    "    print(\"Difficult\")\n",
    "    "
   ]
  },
  {
   "cell_type": "code",
   "execution_count": 25,
   "metadata": {},
   "outputs": [
    {
     "ename": "SyntaxError",
     "evalue": "invalid syntax (<ipython-input-25-8de9e96631e0>, line 2)",
     "output_type": "error",
     "traceback": [
      "\u001b[1;36m  File \u001b[1;32m\"<ipython-input-25-8de9e96631e0>\"\u001b[1;36m, line \u001b[1;32m2\u001b[0m\n\u001b[1;33m    if s = \"oneneuron\":\u001b[0m\n\u001b[1;37m         ^\u001b[0m\n\u001b[1;31mSyntaxError\u001b[0m\u001b[1;31m:\u001b[0m invalid syntax\n"
     ]
    }
   ],
   "source": [
    "s = input()\n",
    "if s = \"oneneuron\":\n",
    "    if course == \"DSA\":\n",
    "        print(\" Yes its available in oneneurona\")\n",
    "        \n",
    "    elif course == \"blockchain\":\n",
    "    print(\"Raise demand\")\n",
    "    \n",
    "    elif: "
   ]
  },
  {
   "cell_type": "code",
   "execution_count": 26,
   "metadata": {},
   "outputs": [],
   "source": [
    "# NEsted if else, watch  the video for after 1 hour"
   ]
  },
  {
   "cell_type": "code",
   "execution_count": 27,
   "metadata": {},
   "outputs": [],
   "source": [
    "# while loop and for loop starting now"
   ]
  },
  {
   "cell_type": "code",
   "execution_count": 28,
   "metadata": {},
   "outputs": [
    {
     "name": "stdout",
     "output_type": "stream",
     "text": [
      "1\n",
      "2\n",
      "3\n",
      "4\n",
      "5\n",
      "6\n",
      "7\n"
     ]
    }
   ],
   "source": [
    "l = [1,2,3,4,5,6,7]\n",
    "for i in l:\n",
    "    print (i)\n",
    "    "
   ]
  },
  {
   "cell_type": "code",
   "execution_count": 30,
   "metadata": {},
   "outputs": [
    {
     "name": "stdout",
     "output_type": "stream",
     "text": [
      "s\n",
      "u\n",
      "d\n",
      "h\n"
     ]
    }
   ],
   "source": [
    "for i in \"sudh\":\n",
    "    print (i)"
   ]
  },
  {
   "cell_type": "code",
   "execution_count": 31,
   "metadata": {},
   "outputs": [
    {
     "name": "stdout",
     "output_type": "stream",
     "text": [
      "1\n",
      "2\n",
      "3\n",
      "4\n",
      "5\n",
      "6\n"
     ]
    }
   ],
   "source": [
    "t = {1,2,3,4,5,6,6}\n",
    "for i in t:\n",
    "    print (i)"
   ]
  },
  {
   "cell_type": "code",
   "execution_count": 33,
   "metadata": {},
   "outputs": [],
   "source": [
    "l = [1,4,5.6,4+7j,\"sudh\"]"
   ]
  },
  {
   "cell_type": "code",
   "execution_count": 38,
   "metadata": {},
   "outputs": [
    {
     "name": "stdout",
     "output_type": "stream",
     "text": [
      "<class 'int'>  type of  1\n",
      "<class 'int'>  type of  4\n",
      "<class 'float'>  type of  5.6\n",
      "<class 'complex'>  type of  (4+7j)\n",
      "<class 'str'>  type of  sudh\n"
     ]
    }
   ],
   "source": [
    "for i in l:\n",
    "    print(type(i), \" type of \", i)"
   ]
  },
  {
   "cell_type": "code",
   "execution_count": 36,
   "metadata": {},
   "outputs": [
    {
     "data": {
      "text/plain": [
       "int"
      ]
     },
     "execution_count": 36,
     "metadata": {},
     "output_type": "execute_result"
    }
   ],
   "source": [
    "type(1)"
   ]
  },
  {
   "cell_type": "code",
   "execution_count": 39,
   "metadata": {},
   "outputs": [
    {
     "name": "stdout",
     "output_type": "stream",
     "text": [
      "3\n",
      "6\n",
      "7.6\n"
     ]
    }
   ],
   "source": [
    "l = [1,4,5.6]\n",
    "l1 = []\n",
    "for i in l:\n",
    "    print(i+2)\n",
    "    l1.append(i+2)"
   ]
  },
  {
   "cell_type": "code",
   "execution_count": 42,
   "metadata": {},
   "outputs": [
    {
     "name": "stdout",
     "output_type": "stream",
     "text": [
      "2\n",
      "45\n",
      "78\n",
      "12\n",
      "56\n",
      "67\n",
      "78\n"
     ]
    }
   ],
   "source": [
    "l = [2, 45, 78, 12, \"sudh\", 6+7j, [56,67,78]]\n",
    "for i in l:\n",
    "    if(type(i) == int):\n",
    "        print(i)\n",
    "    elif type(i) == list:\n",
    "        for j in i:\n",
    "            if(type(j)== int):\n",
    "               print(j)"
   ]
  },
  {
   "cell_type": "markdown",
   "metadata": {},
   "source": [
    "l = [2,45,78,12,\"sudh\", 6+7j, [56,67,78], \"dsfdsf\"]]\n",
    "q1.try to print index of all elements\n",
    "q2. try to extract all th list of char if element is a string\n",
    "q3. Try to return a list after going doing a square of all int elements"
   ]
  },
  {
   "cell_type": "code",
   "execution_count": 45,
   "metadata": {},
   "outputs": [],
   "source": [
    "l = [2,45,78,12,\"sudh\", 6+7j, [56,67,78], \"dsfdsf\"]\n"
   ]
  },
  {
   "cell_type": "code",
   "execution_count": null,
   "metadata": {},
   "outputs": [],
   "source": []
  },
  {
   "cell_type": "code",
   "execution_count": 54,
   "metadata": {},
   "outputs": [
    {
     "name": "stdout",
     "output_type": "stream",
     "text": [
      "2 Index 0\n",
      "45 Index 1\n",
      "78 Index 2\n",
      "12 Index 3\n",
      "sudh Index 4\n",
      "(6+7j) Index 5\n",
      "[56, 67, 78] Index 6\n",
      "dsfdsf Index 7\n"
     ]
    }
   ],
   "source": [
    "for i in l:\n",
    "    print(i,\"Index\", l.index(i))\n"
   ]
  },
  {
   "cell_type": "code",
   "execution_count": 87,
   "metadata": {
    "scrolled": true
   },
   "outputs": [
    {
     "name": "stdout",
     "output_type": "stream",
     "text": [
      "['s', 'u', 'd', 'h']\n",
      "['d', 's', 'f', 'd', 's', 'f']\n"
     ]
    }
   ],
   "source": [
    "\n",
    "for i in l:\n",
    "    if(type(i) == int):\n",
    "        l1= []\n",
    "        for j in i:\n",
    "            \n",
    "            l1.append(j)\n",
    "        print (l1)\n",
    "        \n",
    "    "
   ]
  },
  {
   "cell_type": "code",
   "execution_count": 59,
   "metadata": {},
   "outputs": [
    {
     "name": "stdout",
     "output_type": "stream",
     "text": [
      "3136\n",
      "4489\n",
      "6084\n"
     ]
    }
   ],
   "source": [
    "for i in l:\n",
    "    if(type(i) == list):\n",
    "        l1 = []\n",
    "        for j in i:\n",
    "            \n",
    "        "
   ]
  },
  {
   "cell_type": "markdown",
   "metadata": {},
   "source": [
    "Different ways to do Q1, dont use l.index() as it will give out position of first element in the case of duplicates"
   ]
  },
  {
   "cell_type": "code",
   "execution_count": 64,
   "metadata": {},
   "outputs": [
    {
     "name": "stdout",
     "output_type": "stream",
     "text": [
      "Index of  0 for   element 2\n",
      "Index of  1 for   element 45\n",
      "Index of  2 for   element 78\n",
      "Index of  3 for   element 12\n",
      "Index of  4 for   element sudh\n",
      "Index of  5 for   element (6+7j)\n",
      "Index of  6 for   element [56, 67, 78]\n",
      "Index of  7 for   element dsfdsf\n"
     ]
    }
   ],
   "source": [
    "for i in range(len(l)):\n",
    "    print(\"Index of \",i,  \"for   element\",  l[i])"
   ]
  },
  {
   "cell_type": "code",
   "execution_count": 63,
   "metadata": {},
   "outputs": [
    {
     "name": "stdout",
     "output_type": "stream",
     "text": [
      "(0, 2)\n",
      "(1, 45)\n",
      "(2, 78)\n",
      "(3, 12)\n",
      "(4, 'sudh')\n",
      "(5, (6+7j))\n",
      "(6, [56, 67, 78])\n",
      "(7, 'dsfdsf')\n"
     ]
    }
   ],
   "source": [
    "#enumerate returns element and index as a tuple\n",
    "for i in enumerate(l):\n",
    "    print(i)"
   ]
  },
  {
   "cell_type": "code",
   "execution_count": 66,
   "metadata": {},
   "outputs": [
    {
     "name": "stdout",
     "output_type": "stream",
     "text": [
      "['s', 'u', 'd', 'h']\n",
      "['d', 's', 'f', 'd', 's', 'f']\n"
     ]
    }
   ],
   "source": [
    "#2nd answer\n",
    "for i in l:\n",
    "    if(type(i) == str):\n",
    "        l1 =[]\n",
    "        for j in i:\n",
    "            l1.append(j)\n",
    "        print (l1)"
   ]
  },
  {
   "cell_type": "code",
   "execution_count": 92,
   "metadata": {},
   "outputs": [
    {
     "ename": "TypeError",
     "evalue": "'int' object is not iterable",
     "output_type": "error",
     "traceback": [
      "\u001b[1;31m---------------------------------------------------------------------------\u001b[0m",
      "\u001b[1;31mTypeError\u001b[0m                                 Traceback (most recent call last)",
      "\u001b[1;32m<ipython-input-92-fb4ec1b2c379>\u001b[0m in \u001b[0;36m<module>\u001b[1;34m()\u001b[0m\n\u001b[0;32m      3\u001b[0m \u001b[1;33m\u001b[0m\u001b[0m\n\u001b[0;32m      4\u001b[0m     \u001b[1;32mif\u001b[0m\u001b[1;33m(\u001b[0m\u001b[0mtype\u001b[0m\u001b[1;33m(\u001b[0m\u001b[0mi\u001b[0m\u001b[1;33m)\u001b[0m \u001b[1;33m==\u001b[0m \u001b[0mint\u001b[0m\u001b[1;33m)\u001b[0m\u001b[1;33m:\u001b[0m\u001b[1;33m\u001b[0m\u001b[0m\n\u001b[1;32m----> 5\u001b[1;33m         \u001b[1;32mfor\u001b[0m \u001b[0mj\u001b[0m \u001b[1;32min\u001b[0m \u001b[0mi\u001b[0m\u001b[1;33m:\u001b[0m\u001b[1;33m\u001b[0m\u001b[0m\n\u001b[0m\u001b[0;32m      6\u001b[0m             \u001b[0ml1\u001b[0m \u001b[1;33m=\u001b[0m \u001b[1;33m[\u001b[0m\u001b[1;33m]\u001b[0m\u001b[1;33m\u001b[0m\u001b[0m\n\u001b[0;32m      7\u001b[0m \u001b[1;33m\u001b[0m\u001b[0m\n",
      "\u001b[1;31mTypeError\u001b[0m: 'int' object is not iterable"
     ]
    }
   ],
   "source": [
    "l = [2,45,78,12,\"sudh\", 6+7j, [56,67,78], \"dsfdsf\"]\n",
    "for i in l:\n",
    "    \n",
    "    if(type(i) == int):\n",
    "        \n",
    "            \n",
    "            l1.append(j*j)\n",
    "    \n",
    "    print(l1)\n",
    "                    \n",
    "                    \n",
    "                    "
   ]
  },
  {
   "cell_type": "code",
   "execution_count": null,
   "metadata": {},
   "outputs": [],
   "source": []
  }
 ],
 "metadata": {
  "kernelspec": {
   "display_name": "Python 3",
   "language": "python",
   "name": "python3"
  },
  "language_info": {
   "codemirror_mode": {
    "name": "ipython",
    "version": 3
   },
   "file_extension": ".py",
   "mimetype": "text/x-python",
   "name": "python",
   "nbconvert_exporter": "python",
   "pygments_lexer": "ipython3",
   "version": "3.6.5"
  }
 },
 "nbformat": 4,
 "nbformat_minor": 2
}
