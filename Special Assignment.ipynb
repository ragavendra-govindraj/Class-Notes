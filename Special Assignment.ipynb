{
 "cells": [
  {
   "cell_type": "markdown",
   "metadata": {},
   "source": [
    "1) write a function which will take string and return length of it without using len()"
   ]
  },
  {
   "cell_type": "markdown",
   "metadata": {},
   "source": [
    "Ans 1) "
   ]
  },
  {
   "cell_type": "code",
   "execution_count": 39,
   "metadata": {},
   "outputs": [
    {
     "name": "stdout",
     "output_type": "stream",
     "text": [
      "Enter the string: bknkj\n",
      "The length of the string is:  5\n"
     ]
    }
   ],
   "source": [
    "def lenreturn(string):\n",
    "    \"\"\"This is a function to count the length of a string without using the keyword len\"\"\"\n",
    "\n",
    "    counter = 0\n",
    "    for i in string:\n",
    "        counter = counter+1\n",
    "        \n",
    "    return counter\n",
    "\n",
    "stringo =  input(\"Enter the string: \")\n",
    "print(\"The length of the string is: \", lenreturn(stringo))"
   ]
  },
  {
   "cell_type": "markdown",
   "metadata": {},
   "source": [
    "2) function to show date and time"
   ]
  },
  {
   "cell_type": "code",
   "execution_count": 38,
   "metadata": {},
   "outputs": [
    {
     "name": "stdout",
     "output_type": "stream",
     "text": [
      "Current date and time = 2022-01-03 18:15:08.391318\n",
      "Today's date:  3 1 2022\n",
      "The time is now: = 18:15:8\n"
     ]
    }
   ],
   "source": [
    "import datetime\n",
    "\n",
    "def dateandtime():\n",
    "    \"\"\"Function to show date and time\"\"\"\n",
    "    \n",
    "    e = datetime.datetime.now()\n",
    "    print(\"Current date and time = %s\" %e)\n",
    "    print(\"Today's date:  %s %s %s\"%(e.day,e.month, e.year))\n",
    "    print(\"The time is now: = %s:%s:%s\" % (e.hour, e.minute, e.second))\n",
    "    \n",
    "dateandtime()"
   ]
  },
  {
   "cell_type": "markdown",
   "metadata": {},
   "source": [
    "3) write a function which will show your system configration"
   ]
  },
  {
   "cell_type": "code",
   "execution_count": 41,
   "metadata": {},
   "outputs": [
    {
     "name": "stdout",
     "output_type": "stream",
     "text": [
      "System: Windows\n",
      "Node Name: DNBLAP050\n",
      "Release: 10\n",
      "Version: 10.0.19041\n",
      "Machine: AMD64\n",
      "Processor: Intel64 Family 6 Model 61 Stepping 4, GenuineIntel\n"
     ]
    }
   ],
   "source": [
    "import platform\n",
    " \n",
    "\n",
    "def syscon():\n",
    "    \"\"\"Function to show system configuration\"\"\"\n",
    "    my_system = platform.uname()\n",
    " \n",
    "    print(f\"System: {my_system.system}\")\n",
    "    print(f\"Node Name: {my_system.node}\")\n",
    "    print(f\"Release: {my_system.release}\")\n",
    "    print(f\"Version: {my_system.version}\")\n",
    "    print(f\"Machine: {my_system.machine}\")\n",
    "    print(f\"Processor: {my_system.processor}\")\n",
    "    \n",
    "syscon()"
   ]
  },
  {
   "cell_type": "markdown",
   "metadata": {},
   "source": [
    "4) function which will be able to read an inage file and show it to you"
   ]
  },
  {
   "cell_type": "code",
   "execution_count": 42,
   "metadata": {},
   "outputs": [],
   "source": [
    "# importing Image class from PIL package\n",
    "from PIL import Image\n",
    "\n",
    "def imageview():\n",
    "    \"\"\"This function is for viewing images\"\"\"\n",
    " \n",
    "    # creating a object\n",
    "    im = Image.open(r\"C:\\Users\\11477\\Desktop\\2.jpg\")\n",
    "\n",
    "    im.show()\n",
    "    \n",
    "imageview()"
   ]
  },
  {
   "cell_type": "markdown",
   "metadata": {},
   "source": [
    "5) write a function which can print the index of all the primitive elements which you will pass"
   ]
  },
  {
   "cell_type": "code",
   "execution_count": 62,
   "metadata": {},
   "outputs": [
    {
     "name": "stdout",
     "output_type": "stream",
     "text": [
      "1  : 0\n",
      "y  : 1\n",
      "True  : 0\n",
      "(4+3j)  : 3\n",
      "{'L': 567}  : 4\n",
      "(8, 9)  : 5\n",
      "[2, 3]  : 6\n"
     ]
    }
   ],
   "source": [
    "l = [1,\"y\", True,(4+3j), {\"L\":567}, (8,9), [2,3]]\n",
    "\n",
    "def printindex(l):\n",
    "    \"\"\"Function to print the index of primitive elements that we pass\"\"\"\n",
    "    for i in l:\n",
    "        print (i,'',\":\",  l.index(i))\n",
    "    \n",
    "printindex(l)\n",
    "    "
   ]
  },
  {
   "cell_type": "code",
   "execution_count": 57,
   "metadata": {},
   "outputs": [
    {
     "name": "stdout",
     "output_type": "stream",
     "text": [
      "1  0\n",
      "y  1\n",
      "True  0\n"
     ]
    }
   ],
   "source": [
    "for i in l:\n",
    "    print (i,'',  l.index(i))"
   ]
  },
  {
   "cell_type": "code",
   "execution_count": null,
   "metadata": {},
   "outputs": [],
   "source": []
  }
 ],
 "metadata": {
  "kernelspec": {
   "display_name": "Python 3",
   "language": "python",
   "name": "python3"
  },
  "language_info": {
   "codemirror_mode": {
    "name": "ipython",
    "version": 3
   },
   "file_extension": ".py",
   "mimetype": "text/x-python",
   "name": "python",
   "nbconvert_exporter": "python",
   "pygments_lexer": "ipython3",
   "version": "3.6.5"
  }
 },
 "nbformat": 4,
 "nbformat_minor": 2
}
